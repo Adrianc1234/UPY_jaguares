{
 "cells": [
  {
   "cell_type": "markdown",
   "id": "77141b86-21da-4670-b273-062aeb335371",
   "metadata": {},
   "source": [
    "# Jaguar_Cassification \n",
    "\n",
    "objective: the objective is to \n",
    "train a network to detect whether there is a jaguar or not \n",
    "\n",
    "\n",
    "\n",
    "the labels are two: \n",
    "jaguar or no-jaguar \n",
    "\n",
    "this notebook is based on the work \n",
    "https://github.com/MaxSob/ML_Notebooks/blob/main/Fashion%20MNIST%20in%20Keras.ipynb\n",
    "\n",
    "\n",
    "The network structure is described below\n",
    "\n",
    "\n"
   ]
  },
  {
   "cell_type": "code",
   "execution_count": 12,
   "id": "2dd0f271-39f9-465f-923a-3d46232ac97b",
   "metadata": {},
   "outputs": [],
   "source": [
    "import matplotlib.pyplot as plt\n",
    "import numpy as np\n",
    "import os\n",
    "import PIL\n",
    "import tensorflow as tf\n",
    "\n",
    "from tensorflow import keras\n",
    "from tensorflow.keras import layers\n",
    "from tensorflow.keras.models import Sequential                  # advanced math library\n",
    "import matplotlib.pyplot as plt      # MATLAB like plotting routines\n",
    "import random                        # for generating random numbers\n",
    "\n",
    "from keras.datasets import fashion_mnist     # MNIST dataset is included in Keras\n",
    "from keras.models import Sequential  # Model type to be used\n",
    "\n",
    "from keras.layers.core import Dense, Dropout, Activation # Types of layers to be used in our model\n",
    "from keras.utils import np_utils     \n",
    "from keras.models import Sequential\n",
    "from keras.layers import Conv2D, MaxPooling2D\n",
    "from keras.layers import Activation, Dropout, Flatten, Dense\n",
    "\n",
    "from keras.preprocessing.image import ImageDataGenerator\n",
    "from keras.models import Sequential\n",
    "from keras.layers import Conv2D, MaxPooling2D\n",
    "from keras.layers import Activation, Dropout, Flatten, Dense\n",
    "from keras import backend as K\n",
    "import tensorflow as tf"
   ]
  },
  {
   "cell_type": "code",
   "execution_count": null,
   "id": "cc38d674-4b98-4354-adca-83af0f4fc0d0",
   "metadata": {},
   "outputs": [],
   "source": []
  },
  {
   "cell_type": "code",
   "execution_count": 13,
   "id": "2c1d8c6a-f6b2-4bd0-9f9a-308e194e38bd",
   "metadata": {},
   "outputs": [],
   "source": [
    "# dimensions of our images.\n",
    "img_width, img_height = 150, 150\n",
    "\n",
    "train_data_dir = 'data/idea_1/train/'\n",
    "validation_data_dir = 'data/idea_1/test/'\n",
    "#values to train the netwrok \n",
    "nb_train_samples = 1000\n",
    "nb_validation_samples = 300\n",
    "epochs = 20\n",
    "batch_size = 16"
   ]
  },
  {
   "cell_type": "code",
   "execution_count": 14,
   "id": "7e56d6cd-213e-4f73-8e95-4ba7783fdb96",
   "metadata": {},
   "outputs": [],
   "source": [
    "if K.image_data_format() == 'channels_first':\n",
    "    input_shape = (3, img_width, img_height)\n",
    "else:\n",
    "    input_shape = (img_width, img_height, 3)\n"
   ]
  },
  {
   "cell_type": "code",
   "execution_count": 15,
   "id": "74c32996-5d78-454f-b771-1e4f3d6e1448",
   "metadata": {},
   "outputs": [],
   "source": [
    "from keras.preprocessing.image import ImageDataGenerator\n",
    "from keras.layers import Conv2D, MaxPooling2D, ZeroPadding2D, GlobalAveragePooling2D, Flatten,  BatchNormalization\n",
    "\n",
    "model = Sequential()                                 # Linear stacking of layers\n",
    "\n",
    "# Convolution Layer 1\n",
    "model.add(Conv2D(32, (3, 3), input_shape=(150,150,3))) # 32 different 3x3 kernels -- so 32 feature maps\n",
    "model.add(BatchNormalization(axis=-1))               # normalize each feature map before activation\n",
    "convLayer01 = Activation('relu')                     # activation\n",
    "model.add(convLayer01)\n",
    "\n",
    "# Convolution Layer 2\n",
    "model.add(Conv2D(32, (3, 3)))                        # 32 different 3x3 kernels -- so 32 feature maps\n",
    "model.add(BatchNormalization(axis=-1))               # normalize each feature map before activation\n",
    "model.add(Activation('relu'))                        # activation\n",
    "convLayer02 = MaxPooling2D(pool_size=(2,2))          # Pool the max values over a 2x2 kernel\n",
    "model.add(convLayer02)\n",
    "\n",
    "# Convolution Layer 3\n",
    "model.add(Conv2D(64,(3, 3)))                         # 64 different 3x3 kernels -- so 64 feature maps\n",
    "model.add(BatchNormalization(axis=-1))               # normalize each feature map before activation\n",
    "convLayer03 = Activation('relu')                     # activation\n",
    "model.add(convLayer03)\n",
    "\n",
    "# Convolution Layer 4\n",
    "model.add(Conv2D(64, (3, 3)))                        # 64 different 3x3 kernels -- so 64 feature maps\n",
    "model.add(BatchNormalization(axis=-1))               # normalize each feature map before activation\n",
    "model.add(Activation('relu'))                        # activation\n",
    "convLayer04 = MaxPooling2D(pool_size=(2,2))          # Pool the max values over a 2x2 kernel\n",
    "model.add(convLayer04)\n",
    "model.add(Flatten())                                 # Flatten final 4x4x64 output matrix into a 1024-length vector\n",
    "\n",
    "# Fully Connected Layer 5\n",
    "model.add(Dense(128))                                # 512 FCN nodes\n",
    "model.add(BatchNormalization())                      # normalization\n",
    "model.add(Activation('relu'))                        # activation\n",
    "\n",
    "# Fully Connected Layer 6                       \n",
    "model.add(Dropout(0.5))                              # 20% dropout of randomly selected nodes\n",
    "model.add(Dense(1))                                 # final 10 FCN nodes\n",
    "model.add(Activation('sigmoid'))    "
   ]
  },
  {
   "cell_type": "code",
   "execution_count": 16,
   "id": "24e8e36a-d968-42a8-aa4c-5c72f8dba9df",
   "metadata": {},
   "outputs": [],
   "source": [
    "model.compile(loss='binary_crossentropy',\n",
    "              optimizer='rmsprop',\n",
    "              metrics=['accuracy'])"
   ]
  },
  {
   "cell_type": "code",
   "execution_count": 17,
   "id": "bc0652f7-0ad5-49a0-af4b-60f3b597a493",
   "metadata": {},
   "outputs": [],
   "source": [
    "# this is the augmentation configuration we will use for training\n",
    "train_datagen = ImageDataGenerator(\n",
    "    rescale=1. / 255,\n",
    "    shear_range=0.2,\n",
    "    zoom_range=0.2,\n",
    "    horizontal_flip=True)"
   ]
  },
  {
   "cell_type": "code",
   "execution_count": 18,
   "id": "ed49e8f2-49a5-4000-a1de-1098f56822aa",
   "metadata": {},
   "outputs": [],
   "source": [
    "# this is the augmentation configuration we will use for testing:\n",
    "# only rescaling\n",
    "test_datagen = ImageDataGenerator(rescale=1. / 255)\n"
   ]
  },
  {
   "cell_type": "code",
   "execution_count": 19,
   "id": "c0ca84e8-1c59-4e5b-bf7b-b80eed9d7125",
   "metadata": {},
   "outputs": [
    {
     "name": "stdout",
     "output_type": "stream",
     "text": [
      "Found 700 images belonging to 2 classes.\n"
     ]
    }
   ],
   "source": [
    "#loading the data \n",
    "train_generator = train_datagen.flow_from_directory(\n",
    "    train_data_dir,\n",
    "    #color_mode=\"grayscale\",\n",
    "    target_size=(img_width, img_height),\n",
    "    batch_size=batch_size,\n",
    "    class_mode='binary')"
   ]
  },
  {
   "cell_type": "code",
   "execution_count": 20,
   "id": "31c4d32b-8441-44d1-9556-5772bcbd1d4f",
   "metadata": {},
   "outputs": [
    {
     "name": "stdout",
     "output_type": "stream",
     "text": [
      "Found 296 images belonging to 2 classes.\n"
     ]
    }
   ],
   "source": [
    "validation_generator = test_datagen.flow_from_directory(\n",
    "    validation_data_dir,\n",
    "    #color_mode=\"grayscale\",\n",
    "    target_size=(img_width, img_height),\n",
    "    batch_size=batch_size,\n",
    "    class_mode='binary')"
   ]
  },
  {
   "cell_type": "code",
   "execution_count": null,
   "id": "8afdb6cf-1d11-46eb-99e2-79e1b2467c8c",
   "metadata": {},
   "outputs": [],
   "source": []
  },
  {
   "cell_type": "code",
   "execution_count": 21,
   "id": "7ba4d070-985b-4bc0-b10b-50279bf3325d",
   "metadata": {},
   "outputs": [
    {
     "name": "stdout",
     "output_type": "stream",
     "text": [
      "Model: \"sequential_1\"\n",
      "_________________________________________________________________\n",
      " Layer (type)                Output Shape              Param #   \n",
      "=================================================================\n",
      " conv2d_4 (Conv2D)           (None, 148, 148, 32)      896       \n",
      "                                                                 \n",
      " batch_normalization_5 (Batc  (None, 148, 148, 32)     128       \n",
      " hNormalization)                                                 \n",
      "                                                                 \n",
      " activation_6 (Activation)   (None, 148, 148, 32)      0         \n",
      "                                                                 \n",
      " conv2d_5 (Conv2D)           (None, 146, 146, 32)      9248      \n",
      "                                                                 \n",
      " batch_normalization_6 (Batc  (None, 146, 146, 32)     128       \n",
      " hNormalization)                                                 \n",
      "                                                                 \n",
      " activation_7 (Activation)   (None, 146, 146, 32)      0         \n",
      "                                                                 \n",
      " max_pooling2d_2 (MaxPooling  (None, 73, 73, 32)       0         \n",
      " 2D)                                                             \n",
      "                                                                 \n",
      " conv2d_6 (Conv2D)           (None, 71, 71, 64)        18496     \n",
      "                                                                 \n",
      " batch_normalization_7 (Batc  (None, 71, 71, 64)       256       \n",
      " hNormalization)                                                 \n",
      "                                                                 \n",
      " activation_8 (Activation)   (None, 71, 71, 64)        0         \n",
      "                                                                 \n",
      " conv2d_7 (Conv2D)           (None, 69, 69, 64)        36928     \n",
      "                                                                 \n",
      " batch_normalization_8 (Batc  (None, 69, 69, 64)       256       \n",
      " hNormalization)                                                 \n",
      "                                                                 \n",
      " activation_9 (Activation)   (None, 69, 69, 64)        0         \n",
      "                                                                 \n",
      " max_pooling2d_3 (MaxPooling  (None, 34, 34, 64)       0         \n",
      " 2D)                                                             \n",
      "                                                                 \n",
      " flatten_1 (Flatten)         (None, 73984)             0         \n",
      "                                                                 \n",
      " dense_2 (Dense)             (None, 128)               9470080   \n",
      "                                                                 \n",
      " batch_normalization_9 (Batc  (None, 128)              512       \n",
      " hNormalization)                                                 \n",
      "                                                                 \n",
      " activation_10 (Activation)  (None, 128)               0         \n",
      "                                                                 \n",
      " dropout_1 (Dropout)         (None, 128)               0         \n",
      "                                                                 \n",
      " dense_3 (Dense)             (None, 1)                 129       \n",
      "                                                                 \n",
      " activation_11 (Activation)  (None, 1)                 0         \n",
      "                                                                 \n",
      "=================================================================\n",
      "Total params: 9,537,057\n",
      "Trainable params: 9,536,417\n",
      "Non-trainable params: 640\n",
      "_________________________________________________________________\n"
     ]
    }
   ],
   "source": [
    "model.summary()"
   ]
  },
  {
   "cell_type": "code",
   "execution_count": 22,
   "id": "11efb1fc-dd93-45d3-8678-42e17930318e",
   "metadata": {},
   "outputs": [
    {
     "name": "stdout",
     "output_type": "stream",
     "text": [
      "Epoch 1/50\n",
      "44/44 [==============================] - 79s 2s/step - loss: 0.8373 - accuracy: 0.5757 - val_loss: 0.6361 - val_accuracy: 0.7230\n",
      "Epoch 2/50\n",
      "44/44 [==============================] - 76s 2s/step - loss: 0.6855 - accuracy: 0.6600 - val_loss: 0.9443 - val_accuracy: 0.4966\n",
      "Epoch 3/50\n",
      "44/44 [==============================] - 75s 2s/step - loss: 0.6376 - accuracy: 0.6986 - val_loss: 0.8183 - val_accuracy: 0.4966\n",
      "Epoch 4/50\n",
      "44/44 [==============================] - 75s 2s/step - loss: 0.6383 - accuracy: 0.7000 - val_loss: 0.7959 - val_accuracy: 0.4966\n",
      "Epoch 5/50\n",
      "44/44 [==============================] - 80s 2s/step - loss: 0.5820 - accuracy: 0.7300 - val_loss: 0.8734 - val_accuracy: 0.5000\n",
      "Epoch 6/50\n",
      "44/44 [==============================] - 77s 2s/step - loss: 0.5510 - accuracy: 0.7300 - val_loss: 1.0532 - val_accuracy: 0.5270\n",
      "Epoch 7/50\n",
      "44/44 [==============================] - 75s 2s/step - loss: 0.5164 - accuracy: 0.7443 - val_loss: 1.1213 - val_accuracy: 0.5338\n",
      "Epoch 8/50\n",
      "44/44 [==============================] - 79s 2s/step - loss: 0.5116 - accuracy: 0.7443 - val_loss: 1.1778 - val_accuracy: 0.5101\n",
      "Epoch 9/50\n",
      "44/44 [==============================] - 80s 2s/step - loss: 0.4895 - accuracy: 0.7657 - val_loss: 0.6787 - val_accuracy: 0.6723\n",
      "Epoch 10/50\n",
      "44/44 [==============================] - 78s 2s/step - loss: 0.4610 - accuracy: 0.7843 - val_loss: 0.5141 - val_accuracy: 0.7432\n",
      "Epoch 11/50\n",
      "44/44 [==============================] - 82s 2s/step - loss: 0.4374 - accuracy: 0.8071 - val_loss: 0.4689 - val_accuracy: 0.7297\n",
      "Epoch 12/50\n",
      "44/44 [==============================] - 75s 2s/step - loss: 0.4460 - accuracy: 0.7886 - val_loss: 0.4538 - val_accuracy: 0.7568\n",
      "Epoch 13/50\n",
      "44/44 [==============================] - 75s 2s/step - loss: 0.4463 - accuracy: 0.8057 - val_loss: 0.3790 - val_accuracy: 0.8581\n",
      "Epoch 14/50\n",
      "44/44 [==============================] - 73s 2s/step - loss: 0.4287 - accuracy: 0.8029 - val_loss: 0.3601 - val_accuracy: 0.7973\n",
      "Epoch 15/50\n",
      "44/44 [==============================] - 76s 2s/step - loss: 0.3836 - accuracy: 0.8214 - val_loss: 0.3702 - val_accuracy: 0.8007\n",
      "Epoch 16/50\n",
      "44/44 [==============================] - 75s 2s/step - loss: 0.3895 - accuracy: 0.8271 - val_loss: 0.3698 - val_accuracy: 0.8277\n",
      "Epoch 17/50\n",
      "44/44 [==============================] - 75s 2s/step - loss: 0.3615 - accuracy: 0.8514 - val_loss: 0.2399 - val_accuracy: 0.8682\n",
      "Epoch 18/50\n",
      "44/44 [==============================] - 96s 2s/step - loss: 0.3389 - accuracy: 0.8457 - val_loss: 0.5710 - val_accuracy: 0.7466\n",
      "Epoch 19/50\n",
      "44/44 [==============================] - 110s 2s/step - loss: 0.3793 - accuracy: 0.8229 - val_loss: 0.2778 - val_accuracy: 0.8446\n",
      "Epoch 20/50\n",
      "44/44 [==============================] - 111s 3s/step - loss: 0.3338 - accuracy: 0.8571 - val_loss: 0.2678 - val_accuracy: 0.8885\n",
      "Epoch 21/50\n",
      "44/44 [==============================] - 108s 2s/step - loss: 0.3441 - accuracy: 0.8600 - val_loss: 1.0432 - val_accuracy: 0.7196\n",
      "Epoch 22/50\n",
      "44/44 [==============================] - 109s 2s/step - loss: 0.3207 - accuracy: 0.8657 - val_loss: 0.3004 - val_accuracy: 0.8547\n",
      "Epoch 23/50\n",
      "44/44 [==============================] - 114s 3s/step - loss: 0.2858 - accuracy: 0.8743 - val_loss: 0.2204 - val_accuracy: 0.9020\n",
      "Epoch 24/50\n",
      "44/44 [==============================] - 102s 2s/step - loss: 0.2957 - accuracy: 0.8671 - val_loss: 0.3329 - val_accuracy: 0.8345\n",
      "Epoch 25/50\n",
      "44/44 [==============================] - 60s 1s/step - loss: 0.2796 - accuracy: 0.8829 - val_loss: 0.2387 - val_accuracy: 0.8818\n",
      "Epoch 26/50\n",
      "44/44 [==============================] - 62s 1s/step - loss: 0.2756 - accuracy: 0.8857 - val_loss: 0.2565 - val_accuracy: 0.8581\n",
      "Epoch 27/50\n",
      "44/44 [==============================] - 111s 3s/step - loss: 0.2773 - accuracy: 0.8886 - val_loss: 0.3220 - val_accuracy: 0.8446\n",
      "Epoch 28/50\n",
      "44/44 [==============================] - 109s 2s/step - loss: 0.2637 - accuracy: 0.8900 - val_loss: 0.1697 - val_accuracy: 0.9426\n",
      "Epoch 29/50\n",
      "44/44 [==============================] - 95s 2s/step - loss: 0.2709 - accuracy: 0.8914 - val_loss: 0.2043 - val_accuracy: 0.9155\n",
      "Epoch 30/50\n",
      "44/44 [==============================] - 74s 2s/step - loss: 0.2343 - accuracy: 0.8957 - val_loss: 0.3643 - val_accuracy: 0.8581\n",
      "Epoch 31/50\n",
      "44/44 [==============================] - 110s 3s/step - loss: 0.2424 - accuracy: 0.9100 - val_loss: 0.3132 - val_accuracy: 0.8514\n",
      "Epoch 32/50\n",
      "44/44 [==============================] - 112s 3s/step - loss: 0.2466 - accuracy: 0.9043 - val_loss: 0.4393 - val_accuracy: 0.8041\n",
      "Epoch 33/50\n",
      "44/44 [==============================] - 108s 2s/step - loss: 0.2227 - accuracy: 0.8971 - val_loss: 0.1687 - val_accuracy: 0.9257\n",
      "Epoch 34/50\n",
      "44/44 [==============================] - 108s 2s/step - loss: 0.2088 - accuracy: 0.9143 - val_loss: 0.2741 - val_accuracy: 0.8615\n",
      "Epoch 35/50\n",
      "44/44 [==============================] - 108s 2s/step - loss: 0.2310 - accuracy: 0.9014 - val_loss: 0.8245 - val_accuracy: 0.8007\n",
      "Epoch 36/50\n",
      "44/44 [==============================] - 70s 2s/step - loss: 0.2212 - accuracy: 0.9129 - val_loss: 0.2249 - val_accuracy: 0.8851\n",
      "Epoch 37/50\n",
      "44/44 [==============================] - 95s 2s/step - loss: 0.2336 - accuracy: 0.9100 - val_loss: 0.7023 - val_accuracy: 0.8547\n",
      "Epoch 38/50\n",
      "44/44 [==============================] - 91s 2s/step - loss: 0.2080 - accuracy: 0.9114 - val_loss: 0.2756 - val_accuracy: 0.8986\n",
      "Epoch 39/50\n",
      "44/44 [==============================] - 72s 2s/step - loss: 0.2586 - accuracy: 0.8843 - val_loss: 1.2001 - val_accuracy: 0.7770\n",
      "Epoch 40/50\n",
      "44/44 [==============================] - 65s 1s/step - loss: 0.1916 - accuracy: 0.9200 - val_loss: 0.9571 - val_accuracy: 0.7939\n",
      "Epoch 41/50\n",
      "44/44 [==============================] - 65s 1s/step - loss: 0.1822 - accuracy: 0.9329 - val_loss: 0.0933 - val_accuracy: 0.9628\n",
      "Epoch 42/50\n",
      "44/44 [==============================] - 67s 2s/step - loss: 0.2042 - accuracy: 0.9143 - val_loss: 1.1164 - val_accuracy: 0.7635\n",
      "Epoch 43/50\n",
      "44/44 [==============================] - 85s 2s/step - loss: 0.1864 - accuracy: 0.9171 - val_loss: 0.1236 - val_accuracy: 0.9561\n",
      "Epoch 44/50\n",
      "44/44 [==============================] - 70s 2s/step - loss: 0.1755 - accuracy: 0.9357 - val_loss: 0.2006 - val_accuracy: 0.9122\n",
      "Epoch 45/50\n",
      "44/44 [==============================] - 67s 2s/step - loss: 0.1971 - accuracy: 0.9243 - val_loss: 0.1583 - val_accuracy: 0.9291\n",
      "Epoch 46/50\n",
      "44/44 [==============================] - 65s 1s/step - loss: 0.2104 - accuracy: 0.9243 - val_loss: 0.2247 - val_accuracy: 0.8953\n",
      "Epoch 47/50\n",
      "44/44 [==============================] - 65s 1s/step - loss: 0.1565 - accuracy: 0.9386 - val_loss: 1.0373 - val_accuracy: 0.8007\n",
      "Epoch 48/50\n",
      "44/44 [==============================] - 66s 1s/step - loss: 0.1737 - accuracy: 0.9300 - val_loss: 0.0663 - val_accuracy: 0.9831\n",
      "Epoch 49/50\n",
      "44/44 [==============================] - 68s 2s/step - loss: 0.1840 - accuracy: 0.9243 - val_loss: 0.1486 - val_accuracy: 0.9189\n",
      "Epoch 50/50\n",
      "44/44 [==============================] - 69s 2s/step - loss: 0.1564 - accuracy: 0.9329 - val_loss: 1.9668 - val_accuracy: 0.7162\n"
     ]
    }
   ],
   "source": [
    "epochs = 50\n",
    "history = model.fit(\n",
    "  train_generator,\n",
    "  validation_data=validation_generator,\n",
    "  epochs=epochs\n",
    ")"
   ]
  },
  {
   "cell_type": "code",
   "execution_count": 23,
   "id": "f2fb84a5-2fba-4fd0-86f8-4542765640f4",
   "metadata": {},
   "outputs": [],
   "source": [
    "model.save('train_w/idea1/exp1_app1_v2.h5')"
   ]
  },
  {
   "cell_type": "code",
   "execution_count": 24,
   "id": "1753ae18-7385-4a1d-b703-bc2e2f77dbb4",
   "metadata": {},
   "outputs": [
    {
     "data": {
      "image/png": "[encoded data removed]",
      "text/plain": [
       "<Figure size 576x576 with 2 Axes>"
      ]
     },
     "metadata": {
      "needs_background": "light"
     },
     "output_type": "display_data"
    }
   ],
   "source": [
    "acc = history.history['accuracy']\n",
    "val_acc = history.history['val_accuracy']\n",
    "\n",
    "loss = history.history['loss']\n",
    "val_loss = history.history['val_loss']\n",
    "\n",
    "epochs_range = range(epochs)\n",
    "\n",
    "plt.figure(figsize=(8, 8))\n",
    "plt.subplot(1, 2, 1)\n",
    "plt.plot(epochs_range, acc, label='Training Accuracy')\n",
    "plt.plot(epochs_range, val_acc, label='Validation Accuracy')\n",
    "plt.legend(loc='lower right')\n",
    "plt.title('Training and Validation Accuracy')\n",
    "\n",
    "plt.subplot(1, 2, 2)\n",
    "plt.plot(epochs_range, loss, label='Training Loss')\n",
    "plt.plot(epochs_range, val_loss, label='Validation Loss')\n",
    "plt.legend(loc='upper right')\n",
    "plt.title('Training and Validation Loss')\n",
    "plt.show()"
   ]
  },
  {
   "cell_type": "code",
   "execution_count": null,
   "id": "11db4987-c09b-43ce-b01d-b361a47d9b6b",
   "metadata": {},
   "outputs": [],
   "source": [
    "#we need data to evaluate the model beside the ones we have "
   ]
  },
  {
   "cell_type": "code",
   "execution_count": 25,
   "id": "eeefe07d-cc1f-4651-9c5c-dbe59424b7f4",
   "metadata": {},
   "outputs": [
    {
     "name": "stdout",
     "output_type": "stream",
     "text": [
      "19/19 [==============================] - 11s 587ms/step - loss: 1.9668 - accuracy: 0.7162\n",
      "\n",
      "loss: 1.9668\n",
      "accuracy: 0.7162\n"
     ]
    }
   ],
   "source": [
    "evaluation = model.evaluate(validation_generator, return_dict=True)\n",
    "print()\n",
    "\n",
    "for name, value in evaluation.items():\n",
    "    print(f\"{name}: {value:.4f}\")\n"
   ]
  },
  {
   "cell_type": "code",
   "execution_count": 26,
   "id": "cc4c00e1-1420-4dd7-a83d-d262078a2793",
   "metadata": {},
   "outputs": [
    {
     "name": "stdout",
     "output_type": "stream",
     "text": [
      "44/44 [==============================] - 24s 533ms/step - loss: 0.5204 - accuracy: 0.8086\n",
      "\n",
      "loss: 0.5204\n",
      "accuracy: 0.8086\n"
     ]
    }
   ],
   "source": [
    "evaluation = model.evaluate(train_generator, return_dict=True)\n",
    "print()\n",
    "\n",
    "for name, value in evaluation.items():\n",
    "    print(f\"{name}: {value:.4f}\")\n"
   ]
  },
  {
   "cell_type": "code",
   "execution_count": 28,
   "id": "24de31f1-fa83-4c58-9022-89b5312e99ec",
   "metadata": {},
   "outputs": [
    {
     "name": "stdout",
     "output_type": "stream",
     "text": [
      "Found 65 files belonging to 2 classes.\n",
      "Using 52 files for training.\n"
     ]
    }
   ],
   "source": [
    "#load the data \n",
    "evaluacion2 = tf.keras.utils.image_dataset_from_directory(\n",
    "  'data/validation/',\n",
    "  validation_split=0.2,\n",
    "  #color_mode=\"grayscale\",\n",
    "  subset=\"training\",\n",
    "  seed=123,\n",
    "  image_size=(150, 150),\n",
    "  batch_size=16)"
   ]
  },
  {
   "cell_type": "code",
   "execution_count": 30,
   "id": "e5ab37c4-3833-4671-a7b6-7f69aee8a3f2",
   "metadata": {},
   "outputs": [
    {
     "name": "stdout",
     "output_type": "stream",
     "text": [
      "4/4 [==============================] - 1s 115ms/step - loss: 1103.1101 - accuracy: 0.6538\n",
      "\n",
      "loss: 1103.1101\n",
      "accuracy: 0.6538\n"
     ]
    }
   ],
   "source": [
    "evaluation = model.evaluate(evaluacion2, return_dict=True)\n",
    "print()\n",
    "\n",
    "for name, value in evaluation.items():\n",
    "    print(f\"{name}: {value:.4f}\")"
   ]
  },
  {
   "cell_type": "code",
   "execution_count": null,
   "id": "8600bb4a-428d-45ae-bb3a-2da77dc4a667",
   "metadata": {},
   "outputs": [],
   "source": []
  }
 ],
 "metadata": {
  "kernelspec": {
   "display_name": "Python 3",
   "language": "python",
   "name": "python3"
  },
  "language_info": {
   "codemirror_mode": {
    "name": "ipython",
    "version": 3
   },
   "file_extension": ".py",
   "mimetype": "text/x-python",
   "name": "python",
   "nbconvert_exporter": "python",
   "pygments_lexer": "ipython3",
   "version": "3.8.8"
  }
 },
 "nbformat": 4,
 "nbformat_minor": 5
}
