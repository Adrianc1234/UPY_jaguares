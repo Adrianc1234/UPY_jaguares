{
 "cells": [
  {
   "cell_type": "markdown",
   "id": "ee218f2f-f80b-484e-bffd-29c2e1010997",
   "metadata": {},
   "source": [
    "# Jaguar Classification \n",
    "\n",
    "This notebook trains a Neural Network to detect \n",
    "a jaguar in an image. \n",
    "\n"
   ]
  },
  {
   "cell_type": "code",
   "execution_count": 1,
   "id": "1989d3df-9b1f-4527-9f05-0c934a59ae84",
   "metadata": {},
   "outputs": [],
   "source": [
    "from keras.preprocessing.image import ImageDataGenerator\n",
    "from keras.models import Sequential\n",
    "from keras.layers import Conv2D, MaxPooling2D\n",
    "from keras.layers import Activation, Dropout, Flatten, Dense\n",
    "from keras import backend as K\n",
    "import tensorflow as tf\n",
    "import matplotlib.pyplot as plt"
   ]
  },
  {
   "cell_type": "code",
   "execution_count": 2,
   "id": "346361eb-6e58-4f46-a804-536cb04563de",
   "metadata": {},
   "outputs": [],
   "source": [
    "# dimensions of our images.\n",
    "img_width, img_height = 150, 150\n",
    "\n",
    "train_data_dir = 'data/idea_1/train/'\n",
    "validation_data_dir = 'data/idea_1/test/'\n",
    "nb_train_samples = 1000\n",
    "nb_validation_samples = 300\n",
    "epochs = 20\n",
    "batch_size = 16"
   ]
  },
  {
   "cell_type": "code",
   "execution_count": 3,
   "id": "6cf8a225-0fbd-4807-8b82-b55981798cd3",
   "metadata": {},
   "outputs": [],
   "source": [
    "if K.image_data_format() == 'channels_first':\n",
    "    input_shape = (3, img_width, img_height)\n",
    "else:\n",
    "    input_shape = (img_width, img_height, 3)\n"
   ]
  },
  {
   "cell_type": "code",
   "execution_count": 4,
   "id": "bb78aefe-f62b-4c0d-9b09-9214006d36b8",
   "metadata": {},
   "outputs": [],
   "source": [
    "\n",
    "model = Sequential()\n",
    "model.add(Conv2D(32, (3, 3), input_shape=input_shape))\n",
    "model.add(Activation('relu'))\n",
    "model.add(MaxPooling2D(pool_size=(2, 2)))\n",
    "\n",
    "model.add(Conv2D(32, (3, 3)))\n",
    "model.add(Activation('relu'))\n",
    "model.add(MaxPooling2D(pool_size=(2, 2)))\n",
    "\n",
    "model.add(Conv2D(64, (3, 3)))\n",
    "model.add(Activation('relu'))\n",
    "model.add(MaxPooling2D(pool_size=(2, 2)))\n",
    "\n",
    "model.add(Flatten())\n",
    "model.add(Dense(64))\n",
    "model.add(Activation('relu'))\n",
    "model.add(Dropout(0.5))\n",
    "model.add(Dense(1))\n",
    "model.add(Activation('sigmoid'))"
   ]
  },
  {
   "cell_type": "code",
   "execution_count": 5,
   "id": "82783146-a10b-4ae9-b119-e8d3db41978d",
   "metadata": {},
   "outputs": [],
   "source": [
    "model.compile(loss='binary_crossentropy',\n",
    "              optimizer='rmsprop',\n",
    "              metrics=['accuracy'])\n"
   ]
  },
  {
   "cell_type": "code",
   "execution_count": 6,
   "id": "57794c14-4844-4ad5-9a76-1549544ea525",
   "metadata": {},
   "outputs": [],
   "source": [
    "# this is the augmentation configuration we will use for training\n",
    "train_datagen = ImageDataGenerator(\n",
    "    rescale=1. / 255,\n",
    "    shear_range=0.2,\n",
    "    zoom_range=0.2,\n",
    "    horizontal_flip=True)"
   ]
  },
  {
   "cell_type": "code",
   "execution_count": 7,
   "id": "288639ec-c84a-4e21-9b2c-c4bc6c53b336",
   "metadata": {},
   "outputs": [],
   "source": [
    "# this is the augmentation configuration we will use for testing:\n",
    "# only rescaling\n",
    "test_datagen = ImageDataGenerator(rescale=1. / 255)\n"
   ]
  },
  {
   "cell_type": "code",
   "execution_count": 8,
   "id": "eb67bb3c-b89c-4c1e-aee8-15388368d52c",
   "metadata": {},
   "outputs": [
    {
     "name": "stdout",
     "output_type": "stream",
     "text": [
      "Found 700 images belonging to 2 classes.\n"
     ]
    }
   ],
   "source": [
    "train_generator = train_datagen.flow_from_directory(\n",
    "    train_data_dir,\n",
    "    target_size=(img_width, img_height),\n",
    "    batch_size=batch_size,\n",
    "    class_mode='binary')"
   ]
  },
  {
   "cell_type": "code",
   "execution_count": 9,
   "id": "df31d472-dcbe-437b-851c-f71d1ebf655d",
   "metadata": {},
   "outputs": [
    {
     "name": "stdout",
     "output_type": "stream",
     "text": [
      "Found 296 images belonging to 2 classes.\n"
     ]
    }
   ],
   "source": [
    "validation_generator = test_datagen.flow_from_directory(\n",
    "    validation_data_dir,\n",
    "    target_size=(img_width, img_height),\n",
    "    batch_size=batch_size,\n",
    "    class_mode='binary')"
   ]
  },
  {
   "cell_type": "code",
   "execution_count": 10,
   "id": "05bae4df-1246-4f8a-93ff-994caff98ef7",
   "metadata": {},
   "outputs": [
    {
     "name": "stdout",
     "output_type": "stream",
     "text": [
      "Epoch 1/20\n",
      "20/20 [==============================] - ETA: 0s - loss: 0.6949 - accuracy: 0.6469WARNING:tensorflow:Your input ran out of data; interrupting training. Make sure that your dataset or generator can generate at least `steps_per_epoch * epochs` batches (in this case, 20 batches). You may need to use the repeat() function when building your dataset.\n",
      "20/20 [==============================] - 21s 1s/step - loss: 0.6949 - accuracy: 0.6469 - val_loss: 0.6943 - val_accuracy: 0.4966\n",
      "Epoch 2/20\n",
      "20/20 [==============================] - 11s 531ms/step - loss: 0.6590 - accuracy: 0.6297\n",
      "Epoch 3/20\n",
      "20/20 [==============================] - 12s 596ms/step - loss: 0.6429 - accuracy: 0.6812\n",
      "Epoch 4/20\n",
      "20/20 [==============================] - 13s 670ms/step - loss: 0.6430 - accuracy: 0.6719\n",
      "Epoch 5/20\n",
      "20/20 [==============================] - 11s 578ms/step - loss: 0.6269 - accuracy: 0.6741\n",
      "Epoch 6/20\n",
      "20/20 [==============================] - 14s 708ms/step - loss: 0.6549 - accuracy: 0.6741\n",
      "Epoch 7/20\n",
      "20/20 [==============================] - 13s 662ms/step - loss: 0.6460 - accuracy: 0.6406\n",
      "Epoch 8/20\n",
      "20/20 [==============================] - 12s 593ms/step - loss: 0.6385 - accuracy: 0.6329\n",
      "Epoch 9/20\n",
      "20/20 [==============================] - 12s 608ms/step - loss: 0.6758 - accuracy: 0.6013\n",
      "Epoch 10/20\n",
      "20/20 [==============================] - 11s 574ms/step - loss: 0.6336 - accuracy: 0.6519\n",
      "Epoch 11/20\n",
      "20/20 [==============================] - 10s 524ms/step - loss: 0.5912 - accuracy: 0.6781\n",
      "Epoch 12/20\n",
      "20/20 [==============================] - 11s 545ms/step - loss: 0.6396 - accuracy: 0.6108\n",
      "Epoch 13/20\n",
      "20/20 [==============================] - 13s 646ms/step - loss: 0.6043 - accuracy: 0.6625\n",
      "Epoch 14/20\n",
      "20/20 [==============================] - 11s 538ms/step - loss: 0.6169 - accuracy: 0.6500\n",
      "Epoch 15/20\n",
      "20/20 [==============================] - 11s 552ms/step - loss: 0.6230 - accuracy: 0.6438\n",
      "Epoch 16/20\n",
      "20/20 [==============================] - 12s 599ms/step - loss: 0.6107 - accuracy: 0.6781\n",
      "Epoch 17/20\n",
      "20/20 [==============================] - 12s 627ms/step - loss: 0.6391 - accuracy: 0.6677\n",
      "Epoch 18/20\n",
      "20/20 [==============================] - 13s 666ms/step - loss: 0.6345 - accuracy: 0.6519\n",
      "Epoch 19/20\n",
      "20/20 [==============================] - 13s 616ms/step - loss: 0.5907 - accuracy: 0.6875\n",
      "Epoch 20/20\n",
      "20/20 [==============================] - 12s 619ms/step - loss: 0.6117 - accuracy: 0.6500\n"
     ]
    }
   ],
   "source": [
    "history=model.fit(\n",
    "    train_generator,\n",
    "    steps_per_epoch=20,\n",
    "    epochs=epochs,\n",
    "    validation_data=validation_generator,\n",
    "    validation_steps=20)\n"
   ]
  },
  {
   "cell_type": "code",
   "execution_count": 22,
   "id": "73802913-1f5a-453a-af20-ba749c73ae46",
   "metadata": {},
   "outputs": [],
   "source": [
    "model.save('train_w/idea1/exp1_app3.h5')"
   ]
  },
  {
   "cell_type": "code",
   "execution_count": 28,
   "id": "5fe7aee5-647a-4bee-b894-5e941ceaaf39",
   "metadata": {},
   "outputs": [
    {
     "data": {
      "image/png": "[encoded data removed]",
      "text/plain": [
       "<Figure size 576x576 with 2 Axes>"
      ]
     },
     "metadata": {
      "needs_background": "light"
     },
     "output_type": "display_data"
    }
   ],
   "source": [
    "acc = history.history['accuracy']\n",
    "val_acc = history.history['val_accuracy']\n",
    "\n",
    "loss = history.history['loss']\n",
    "val_loss = history.history['val_loss']\n",
    "\n",
    "epochs_range = range(epochs)\n",
    "\n",
    "plt.figure(figsize=(8, 8))\n",
    "plt.subplot(1, 2, 1)\n",
    "plt.plot(epochs_range, acc, label='Training Accuracy')\n",
    "plt.plot(epochs_range, val_acc, label='Validation Accuracy')\n",
    "plt.legend(loc='lower right')\n",
    "plt.title('Training and Validation Accuracy')\n",
    "\n",
    "plt.subplot(1, 2, 2)\n",
    "plt.plot(epochs_range, loss, label='Training Loss')\n",
    "plt.plot(epochs_range, val_loss, label='Validation Loss')\n",
    "plt.legend(loc='upper right')\n",
    "plt.title('Training and Validation Loss')\n",
    "plt.show()"
   ]
  },
  {
   "cell_type": "code",
   "execution_count": null,
   "id": "aa820ab4-b3c7-4d08-9a5d-8de80a2e8e0b",
   "metadata": {},
   "outputs": [],
   "source": []
  },
  {
   "cell_type": "code",
   "execution_count": null,
   "id": "95b1413f-1aa5-4394-9f18-91d6e8e63308",
   "metadata": {},
   "outputs": [],
   "source": []
  },
  {
   "cell_type": "code",
   "execution_count": null,
   "id": "2ed3cee1-6a82-41e5-a13c-d2b33a15adee",
   "metadata": {},
   "outputs": [],
   "source": []
  },
  {
   "cell_type": "code",
   "execution_count": null,
   "id": "71f88f71-fd3d-4505-8d48-1dffaba267a2",
   "metadata": {},
   "outputs": [],
   "source": []
  },
  {
   "cell_type": "code",
   "execution_count": null,
   "id": "d64eb01f-d4e6-4506-afac-a6c69ee62a4a",
   "metadata": {},
   "outputs": [],
   "source": []
  },
  {
   "cell_type": "code",
   "execution_count": null,
   "id": "52c6157b-d301-458a-b86f-8e138c08d549",
   "metadata": {},
   "outputs": [],
   "source": []
  },
  {
   "cell_type": "code",
   "execution_count": null,
   "id": "6757fcce-e8bb-4c82-b9fd-781a07f7a11c",
   "metadata": {},
   "outputs": [],
   "source": []
  },
  {
   "cell_type": "code",
   "execution_count": null,
   "id": "d2d7f375-e444-4d5c-a438-7152891621fc",
   "metadata": {},
   "outputs": [],
   "source": []
  }
 ],
 "metadata": {
  "kernelspec": {
   "display_name": "Python 3",
   "language": "python",
   "name": "python3"
  },
  "language_info": {
   "codemirror_mode": {
    "name": "ipython",
    "version": 3
   },
   "file_extension": ".py",
   "mimetype": "text/x-python",
   "name": "python",
   "nbconvert_exporter": "python",
   "pygments_lexer": "ipython3",
   "version": "3.8.8"
  }
 },
 "nbformat": 4,
 "nbformat_minor": 5
}
