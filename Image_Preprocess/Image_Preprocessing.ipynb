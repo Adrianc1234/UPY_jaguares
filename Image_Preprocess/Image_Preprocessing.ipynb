{
  "nbformat": 4,
  "nbformat_minor": 0,
  "metadata": {
    "colab": {
      "name": "Image_Preprocessing.ipynb",
      "provenance": [],
      "collapsed_sections": []
    },
    "kernelspec": {
      "name": "python3",
      "display_name": "Python 3"
    },
    "language_info": {
      "name": "python"
    }
  },
  "cells": [
    {
      "cell_type": "code",
      "execution_count": null,
      "metadata": {
        "id": "rvH1PfAeYQ7_"
      },
      "outputs": [],
      "source": [
        "import cv2\n",
        "import glob\n",
        "import numpy as np\n",
        "from PIL import Image, ImageEnhance\n",
        "from google.colab import drive\n",
        "from google.colab.patches import cv2_imshow"
      ]
    },
    {
      "cell_type": "code",
      "source": [
        "import os\n",
        "import random\n",
        "from shutil import copyfile\n",
        "import shutil"
      ],
      "metadata": {
        "id": "ldmaF2zN4SJM"
      },
      "execution_count": null,
      "outputs": []
    },
    {
      "cell_type": "code",
      "source": [
        "drive.mount('/content/drive')"
      ],
      "metadata": {
        "colab": {
          "base_uri": "https://localhost:8080/"
        },
        "id": "vHVtImLActOM",
        "outputId": "357e2f18-f725-46f8-c10d-949fea2e4e5c"
      },
      "execution_count": null,
      "outputs": [
        {
          "output_type": "stream",
          "name": "stdout",
          "text": [
            "Drive already mounted at /content/drive; to attempt to forcibly remount, call drive.mount(\"/content/drive\", force_remount=True).\n"
          ]
        }
      ]
    },
    {
      "cell_type": "code",
      "source": [
        "#path = \"/content/drive/MyDrive/Data_sets_local/Jaguar_de_dia/*.*\""
      ],
      "metadata": {
        "id": "JmB9asCkhILk"
      },
      "execution_count": null,
      "outputs": []
    },
    {
      "cell_type": "code",
      "source": [
        "def rename(path):\n",
        "    #Colocar el nombre del directorio\n",
        "    dir = path\n",
        "    #Colocar el nombre de nuestra clase (No usar espacios)\n",
        "    name_class=\"jaguares\"\n",
        "    count = 0\n",
        "    list_files=os.listdir(dir)\n",
        "    new_dir=dir+\"_rename\"\n",
        "\n",
        "    if not os.path.exists(new_dir):\n",
        "        os.makedirs(new_dir)\n",
        "    else :\n",
        "        shutil.rmtree(new_dir)\n",
        "\n",
        "    for filename in list_files:\n",
        "        if filename.endswith(\".jpg\"):\n",
        "            new_name=name_class+'_'+str(count)+ '.'+ filename.split('.')[-1]\n",
        "            copyfile( os.path.join(dir, filename),os.path.join(new_dir, new_name ) )\n",
        "            #print(filename,\"-->\" , new_name)\n",
        "            count += 1\n",
        "    print(\"Archivos JPG totales\", count)"
      ],
      "metadata": {
        "id": "uMN1pTPO4aO3"
      },
      "execution_count": null,
      "outputs": []
    },
    {
      "cell_type": "code",
      "source": [
        "# Convert day picture to night ones\n",
        "\n",
        "def Day_to_Night(original_image):\n",
        "  \n",
        "  a = original_image * np.array([1,0.7,0.8])\n",
        "  b = (255*a/a.max()).astype(np.uint8)\n",
        "  gamma = 2\n",
        "\n",
        "  gamma_img = np.array(255*(b/255)**gamma,dtype='uint8')\n",
        "\n",
        "   # array to image\n",
        "  converted_image = Image.fromarray(gamma_img)\n",
        "\n",
        "  # Adjusting brightness\n",
        "  BrightnessMode = ImageEnhance.Brightness(converted_image)\n",
        "  factor_Brightness = .9 #gives original image, recommended .9\n",
        "  im_output = BrightnessMode.enhance(factor_Brightness)\n",
        "\n",
        "  # image to array\n",
        "  image_output = np.array(im_output)\n",
        "\n",
        "  return image_output"
      ],
      "metadata": {
        "id": "Cdd5d8KkoMvj"
      },
      "execution_count": null,
      "outputs": []
    },
    {
      "cell_type": "code",
      "source": [
        "# Grayscale transformation\n",
        "\n",
        "def GS(original_image):\n",
        "\n",
        "  # Grayscale transformation\n",
        "  GS_image = cv2.cvtColor(original_image, cv2.COLOR_BGR2GRAY)\n",
        "\n",
        "  # array to image\n",
        "  converted_image = Image.fromarray(GS_image)\n",
        "\n",
        "  # adjusting contrast\n",
        "  contrastMode = ImageEnhance.Contrast(converted_image)\n",
        "  factor_Contrast = 1.5 #gives original image, recommended 1.5\n",
        "  im_output = contrastMode.enhance(factor_Contrast)\n",
        "\n",
        "  # Adjusting brightness\n",
        "  BrightnessMode = ImageEnhance.Brightness(im_output)\n",
        "  factor_Brightness = 1.0 #gives original image, recommended 1.0\n",
        "  im_output = BrightnessMode.enhance(factor_Brightness)\n",
        "\n",
        "  # image to array\n",
        "  image_output = np.array(im_output)\n",
        "\n",
        "  return image_output"
      ],
      "metadata": {
        "id": "hsJtCX8wuFfI"
      },
      "execution_count": null,
      "outputs": []
    },
    {
      "cell_type": "code",
      "source": [
        "# Image color-Intensification\n",
        "\n",
        "def CI(original_image):\n",
        "\n",
        "  # array to image\n",
        "  converted_image = Image.fromarray(original_image)\n",
        "\n",
        "  # adjusting contrast\n",
        "  contrastMode = ImageEnhance.Contrast(converted_image)\n",
        "  factor_Contrast = 1.3 #gives original image, recommended 1.3\n",
        "  im_output = contrastMode.enhance(factor_Contrast)\n",
        "\n",
        "  # Adjusting brightness\n",
        "  BrightnessMode = ImageEnhance.Brightness(im_output)\n",
        "  factor_Brightness = 1.1 #gives original image, recommended 1.1\n",
        "  im_output = BrightnessMode.enhance(factor_Brightness)\n",
        "\n",
        "  # image to array\n",
        "  image_output = np.array(im_output)\n",
        "\n",
        "  return image_output"
      ],
      "metadata": {
        "id": "aaC8rekAwsQ6"
      },
      "execution_count": null,
      "outputs": []
    },
    {
      "cell_type": "code",
      "source": [
        "def reading_images(dir_path,filter_type,destination):\n",
        "\n",
        "  name_class = \"jaguar_\"\n",
        "  dir_destination = destination\n",
        "\n",
        "  if filter_type == 'D2N':\n",
        "    \n",
        "    # new directory\n",
        "    new_dir = dir_destination + 'D2N_images'\n",
        "    \n",
        "\n",
        "    if not os.path.exists(new_dir):\n",
        "        os.makedirs(new_dir)\n",
        "    else :\n",
        "        shutil.rmtree(new_dir)\n",
        "        os.makedirs(new_dir)\n",
        "        \n",
        "    for img_name in glob.glob(dir_path+\"/*.*\"):\n",
        "      # Load image\n",
        "      original_image = cv2.imread(img_name)\n",
        "      # day-to-night\n",
        "      D2N_image = Day_to_Night(original_image)\n",
        "      # Save image transformed\n",
        "      #print(new_dir + '/' + img_name[img_name.rfind('/')+1::])\n",
        "      cv2.imwrite(new_dir + '/' + img_name[img_name.rfind('/')+1:], D2N_image)\n",
        "\n",
        "    print('D2N-done')\n",
        "\n",
        "  elif filter_type == 'GS':\n",
        "\n",
        "    # new directory\n",
        "    new_dir = dir_destination + 'GS_images'\n",
        "\n",
        "    if not os.path.exists(new_dir):\n",
        "        os.makedirs(new_dir)\n",
        "    else :\n",
        "        shutil.rmtree(new_dir)\n",
        "        os.makedirs(new_dir)\n",
        "\n",
        "    for img_name in glob.glob(dir_path+\"/*.*\"):\n",
        "      # Load image\n",
        "      original_image = cv2.imread(img_name)\n",
        "      if original_image is not None:\n",
        "        # Grayscale transformation\n",
        "        GS_image = GS(original_image)\n",
        "        # Save image transformed\n",
        "        cv2.imwrite(new_dir + '/' + img_name[img_name.rfind('/')+1:], GS_image)\n",
        "\n",
        "    print('GS-done')\n",
        "\n",
        "  elif filter_type == 'CI':\n",
        "\n",
        "    # new directory\n",
        "    new_dir = dir_destination + 'CI_images'\n",
        "\n",
        "    if not os.path.exists(new_dir):\n",
        "        os.makedirs(new_dir)\n",
        "    else :\n",
        "        shutil.rmtree(new_dir)\n",
        "        os.makedirs(new_dir)\n",
        "\n",
        "    for img_name in glob.glob(dir_path+\"/*.*\"):\n",
        "      # Load image\n",
        "      original_image = cv2.imread(img_name)\n",
        "      if original_image is not None:\n",
        "        # Corlor Intensification\n",
        "        CI_image = CI(original_image)\n",
        "        # Save image transformed\n",
        "        cv2.imwrite(new_dir + '/' + img_name[img_name.rfind('/')+1:], CI_image)\n",
        "\n",
        "    print('CI-done')\n",
        "\n",
        "  else:\n",
        "    raise TypeError('You should pass a valid filter type')"
      ],
      "metadata": {
        "id": "lPPBGqsidAYZ"
      },
      "execution_count": null,
      "outputs": []
    },
    {
      "cell_type": "code",
      "source": [
        "path = \"/content/drive/MyDrive/Data sets local/Sin jaguar de dia\"\n",
        "destination = \"/content/drive/MyDrive/Data sets local/\"\n",
        "\n",
        "reading_images(path,'CI',destination)"
      ],
      "metadata": {
        "colab": {
          "base_uri": "https://localhost:8080/"
        },
        "id": "v0inn1fQAih_",
        "outputId": "e3f925bd-e35a-47ab-b675-7fa182227afc"
      },
      "execution_count": null,
      "outputs": [
        {
          "output_type": "stream",
          "name": "stdout",
          "text": [
            "CI-done\n"
          ]
        }
      ]
    },
    {
      "cell_type": "code",
      "source": [
        ""
      ],
      "metadata": {
        "id": "33Z1GDSTAirn"
      },
      "execution_count": null,
      "outputs": []
    },
    {
      "cell_type": "code",
      "source": [
        ""
      ],
      "metadata": {
        "id": "oNA4x9JABRmp"
      },
      "execution_count": null,
      "outputs": []
    }
  ]
}